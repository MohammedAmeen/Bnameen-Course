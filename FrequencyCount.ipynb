{
  "nbformat": 4,
  "nbformat_minor": 0,
  "metadata": {
    "colab": {
      "provenance": [],
      "collapsed_sections": [],
      "authorship_tag": "ABX9TyMAu9ofDM9keh/m0RRClxlW",
      "include_colab_link": true
    },
    "kernelspec": {
      "name": "python3",
      "display_name": "Python 3"
    },
    "language_info": {
      "name": "python"
    }
  },
  "cells": [
    {
      "cell_type": "markdown",
      "metadata": {
        "id": "view-in-github",
        "colab_type": "text"
      },
      "source": [
        "<a href=\"https://colab.research.google.com/github/MohammedAmeen/Bnameen-Course/blob/master/FrequencyCount.ipynb\" target=\"_parent\"><img src=\"https://colab.research.google.com/assets/colab-badge.svg\" alt=\"Open In Colab\"/></a>"
      ]
    },
    {
      "cell_type": "code",
      "execution_count": 21,
      "metadata": {
        "colab": {
          "base_uri": "https://localhost:8080/"
        },
        "id": "q_qC0i42dVpk",
        "outputId": "5e8073ab-f52b-4f9e-d203-13e9fca4490f"
      },
      "outputs": [
        {
          "output_type": "stream",
          "name": "stdout",
          "text": [
            "Enter your text: هذا يمني\n",
            "{('يمني', 1), ('هذا', 1)}\n"
          ]
        }
      ],
      "source": [
        "set1=set()\n",
        "string= input(\"Enter your text: \")\n",
        "string=string.lower()\n",
        "# splitting the string  whenever we encounter a space\n",
        "string=string.split(\" \")\n",
        "# iterate through list-string\n",
        "for i in string:\n",
        "    # Storing the word and its frequency in the form of tuple in a set\n",
        "    # Set is used to avoid repetition\n",
        "    set1.add((i,string.count(i)))\n",
        "print(set1)"
      ]
    },
    {
      "cell_type": "code",
      "source": [
        "import csv"
      ],
      "metadata": {
        "id": "drvRT9Ldd8ld"
      },
      "execution_count": 22,
      "outputs": []
    },
    {
      "cell_type": "code",
      "source": [
        "with open('file1.csv', 'w', encoding ='utf-8') as f:\n",
        "    writer = csv.writer(f)\n",
        "    writer.writerows(set1)"
      ],
      "metadata": {
        "id": "k4NFEvSIeBGk"
      },
      "execution_count": 23,
      "outputs": []
    }
  ]
}